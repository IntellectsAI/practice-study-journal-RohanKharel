{
 "cells": [
  {
   "cell_type": "code",
   "execution_count": 1,
   "metadata": {},
   "outputs": [],
   "source": [
    "import numpy as np\n",
    "import tensorflow as tf\n",
    "from tensorflow import keras\n",
    "from tensorflow.keras.datasets import mnist\n",
    "from tensorflow.keras.models import Sequential\n",
    "from tensorflow.keras.layers import Dense\n",
    "from tensorflow.keras.optimizers import SGD\n",
    "import matplotlib.pyplot as plt"
   ]
  },
  {
   "cell_type": "code",
   "execution_count": 2,
   "metadata": {},
   "outputs": [
    {
     "name": "stdout",
     "output_type": "stream",
     "text": [
      "Downloading data from https://storage.googleapis.com/tensorflow/tf-keras-datasets/mnist.npz\n",
      "11490434/11490434 [==============================] - 2s 0us/step\n"
     ]
    }
   ],
   "source": [
    "# Load the MNIST dataset\n",
    "(X_train, y_train), (X_test, y_test) = mnist.load_data()"
   ]
  },
  {
   "cell_type": "code",
   "execution_count": 3,
   "metadata": {},
   "outputs": [],
   "source": [
    "# Preprocess the data\n",
    "X_train = X_train.astype('float32') / 255.0\n",
    "X_test = X_test.astype('float32') / 255.0"
   ]
  },
  {
   "cell_type": "code",
   "execution_count": 4,
   "metadata": {},
   "outputs": [],
   "source": [
    "# Define the deep MLP model\n",
    "model = Sequential()\n",
    "model.add(Dense(256, activation='relu', input_shape=(784,)))\n",
    "model.add(Dense(128, activation='relu'))\n",
    "model.add(Dense(10, activation='softmax'))"
   ]
  },
  {
   "cell_type": "code",
   "execution_count": 5,
   "metadata": {},
   "outputs": [],
   "source": [
    "# Compile the model\n",
    "model.compile(loss='sparse_categorical_crossentropy', optimizer='sgd', metrics=['accuracy'])"
   ]
  },
  {
   "cell_type": "code",
   "execution_count": 6,
   "metadata": {},
   "outputs": [],
   "source": [
    "# Function to exponentially grow the learning rate\n",
    "def exponential_decay_fn(epoch):\n",
    "    return 0.01 * 0.1**(epoch / 20)"
   ]
  },
  {
   "cell_type": "code",
   "execution_count": 7,
   "metadata": {},
   "outputs": [],
   "source": [
    "# Define the learning rate scheduler\n",
    "lr_scheduler = keras.callbacks.LearningRateScheduler(exponential_decay_fn)\n"
   ]
  },
  {
   "cell_type": "code",
   "execution_count": 8,
   "metadata": {},
   "outputs": [
    {
     "name": "stdout",
     "output_type": "stream",
     "text": [
      "Epoch 1/30\n",
      "1688/1688 [==============================] - 5s 2ms/step - loss: 0.6235 - accuracy: 0.8393 - val_loss: 0.2789 - val_accuracy: 0.9245 - lr: 0.0100\n",
      "Epoch 2/30\n",
      "1688/1688 [==============================] - 4s 2ms/step - loss: 0.3008 - accuracy: 0.9150 - val_loss: 0.2216 - val_accuracy: 0.9383 - lr: 0.0089\n",
      "Epoch 3/30\n",
      "1688/1688 [==============================] - 4s 3ms/step - loss: 0.2525 - accuracy: 0.9289 - val_loss: 0.1925 - val_accuracy: 0.9465 - lr: 0.0079\n",
      "Epoch 4/30\n",
      "1688/1688 [==============================] - 5s 3ms/step - loss: 0.2223 - accuracy: 0.9370 - val_loss: 0.1857 - val_accuracy: 0.9503 - lr: 0.0071\n",
      "Epoch 5/30\n",
      "1688/1688 [==============================] - 4s 3ms/step - loss: 0.2012 - accuracy: 0.9422 - val_loss: 0.1598 - val_accuracy: 0.9580 - lr: 0.0063\n",
      "Epoch 6/30\n",
      "1688/1688 [==============================] - 4s 3ms/step - loss: 0.1852 - accuracy: 0.9476 - val_loss: 0.1527 - val_accuracy: 0.9598 - lr: 0.0056\n",
      "Epoch 7/30\n",
      "1688/1688 [==============================] - 5s 3ms/step - loss: 0.1729 - accuracy: 0.9509 - val_loss: 0.1449 - val_accuracy: 0.9615 - lr: 0.0050\n",
      "Epoch 8/30\n",
      "1688/1688 [==============================] - 5s 3ms/step - loss: 0.1627 - accuracy: 0.9541 - val_loss: 0.1392 - val_accuracy: 0.9628 - lr: 0.0045\n",
      "Epoch 9/30\n",
      "1688/1688 [==============================] - 5s 3ms/step - loss: 0.1548 - accuracy: 0.9562 - val_loss: 0.1325 - val_accuracy: 0.9653 - lr: 0.0040\n",
      "Epoch 10/30\n",
      "1688/1688 [==============================] - 5s 3ms/step - loss: 0.1483 - accuracy: 0.9578 - val_loss: 0.1293 - val_accuracy: 0.9653 - lr: 0.0035\n",
      "Epoch 11/30\n",
      "1688/1688 [==============================] - 5s 3ms/step - loss: 0.1426 - accuracy: 0.9591 - val_loss: 0.1287 - val_accuracy: 0.9648 - lr: 0.0032\n",
      "Epoch 12/30\n",
      "1688/1688 [==============================] - 5s 3ms/step - loss: 0.1380 - accuracy: 0.9617 - val_loss: 0.1235 - val_accuracy: 0.9670 - lr: 0.0028\n",
      "Epoch 13/30\n",
      "1688/1688 [==============================] - 5s 3ms/step - loss: 0.1341 - accuracy: 0.9620 - val_loss: 0.1220 - val_accuracy: 0.9675 - lr: 0.0025\n",
      "Epoch 14/30\n",
      "1688/1688 [==============================] - 5s 3ms/step - loss: 0.1305 - accuracy: 0.9634 - val_loss: 0.1209 - val_accuracy: 0.9678 - lr: 0.0022\n",
      "Epoch 15/30\n",
      "1688/1688 [==============================] - 5s 3ms/step - loss: 0.1276 - accuracy: 0.9641 - val_loss: 0.1191 - val_accuracy: 0.9683 - lr: 0.0020\n",
      "Epoch 16/30\n",
      "1688/1688 [==============================] - 5s 3ms/step - loss: 0.1251 - accuracy: 0.9648 - val_loss: 0.1165 - val_accuracy: 0.9690 - lr: 0.0018\n",
      "Epoch 17/30\n",
      "1688/1688 [==============================] - 5s 3ms/step - loss: 0.1230 - accuracy: 0.9656 - val_loss: 0.1158 - val_accuracy: 0.9692 - lr: 0.0016\n",
      "Epoch 18/30\n",
      "1688/1688 [==============================] - 5s 3ms/step - loss: 0.1211 - accuracy: 0.9661 - val_loss: 0.1146 - val_accuracy: 0.9695 - lr: 0.0014\n",
      "Epoch 19/30\n",
      "1688/1688 [==============================] - 5s 3ms/step - loss: 0.1194 - accuracy: 0.9665 - val_loss: 0.1142 - val_accuracy: 0.9692 - lr: 0.0013\n",
      "Epoch 20/30\n",
      "1688/1688 [==============================] - 4s 3ms/step - loss: 0.1180 - accuracy: 0.9673 - val_loss: 0.1139 - val_accuracy: 0.9693 - lr: 0.0011\n",
      "Epoch 21/30\n",
      "1688/1688 [==============================] - 5s 3ms/step - loss: 0.1167 - accuracy: 0.9678 - val_loss: 0.1122 - val_accuracy: 0.9697 - lr: 0.0010\n",
      "Epoch 22/30\n",
      "1688/1688 [==============================] - 5s 3ms/step - loss: 0.1155 - accuracy: 0.9678 - val_loss: 0.1117 - val_accuracy: 0.9697 - lr: 8.9125e-04\n",
      "Epoch 23/30\n",
      "1688/1688 [==============================] - 5s 3ms/step - loss: 0.1146 - accuracy: 0.9683 - val_loss: 0.1109 - val_accuracy: 0.9705 - lr: 7.9433e-04\n",
      "Epoch 24/30\n",
      "1688/1688 [==============================] - 4s 3ms/step - loss: 0.1136 - accuracy: 0.9683 - val_loss: 0.1109 - val_accuracy: 0.9705 - lr: 7.0795e-04\n",
      "Epoch 25/30\n",
      "1688/1688 [==============================] - 4s 3ms/step - loss: 0.1129 - accuracy: 0.9689 - val_loss: 0.1101 - val_accuracy: 0.9697 - lr: 6.3096e-04\n",
      "Epoch 26/30\n",
      "1688/1688 [==============================] - 4s 3ms/step - loss: 0.1122 - accuracy: 0.9689 - val_loss: 0.1095 - val_accuracy: 0.9703 - lr: 5.6234e-04\n",
      "Epoch 27/30\n",
      "1688/1688 [==============================] - 4s 3ms/step - loss: 0.1116 - accuracy: 0.9690 - val_loss: 0.1094 - val_accuracy: 0.9702 - lr: 5.0119e-04\n",
      "Epoch 28/30\n",
      "1688/1688 [==============================] - 5s 3ms/step - loss: 0.1111 - accuracy: 0.9693 - val_loss: 0.1091 - val_accuracy: 0.9703 - lr: 4.4668e-04\n",
      "Epoch 29/30\n",
      "1688/1688 [==============================] - 5s 3ms/step - loss: 0.1106 - accuracy: 0.9694 - val_loss: 0.1091 - val_accuracy: 0.9708 - lr: 3.9811e-04\n",
      "Epoch 30/30\n",
      "1688/1688 [==============================] - 5s 3ms/step - loss: 0.1102 - accuracy: 0.9693 - val_loss: 0.1088 - val_accuracy: 0.9705 - lr: 3.5481e-04\n"
     ]
    }
   ],
   "source": [
    "# Train the model\n",
    "history = model.fit(X_train.reshape(-1, 784), y_train, epochs=30, validation_split=0.1, callbacks=[lr_scheduler])\n"
   ]
  },
  {
   "cell_type": "code",
   "execution_count": 9,
   "metadata": {},
   "outputs": [
    {
     "data": {
      "image/png": "[encoded data removed]",
      "text/plain": [
       "<Figure size 640x480 with 1 Axes>"
      ]
     },
     "metadata": {},
     "output_type": "display_data"
    }
   ],
   "source": [
    "# Plot the loss\n",
    "plt.plot(history.history['loss'])\n",
    "plt.plot(history.history['val_loss'])\n",
    "plt.title('Model Loss')\n",
    "plt.xlabel('Epoch')\n",
    "plt.ylabel('Loss')\n",
    "plt.legend(['Train', 'Validation'], loc='upper right')\n",
    "plt.show()"
   ]
  },
  {
   "cell_type": "code",
   "execution_count": 10,
   "metadata": {},
   "outputs": [
    {
     "name": "stdout",
     "output_type": "stream",
     "text": [
      "Best learning rate: 0.2818382931264453\n"
     ]
    }
   ],
   "source": [
    "# Find the optimal learning rate\n",
    "learning_rates = 0.01 * (10 ** (np.arange(30) / 20))\n",
    "losses = history.history['loss']\n",
    "best_learning_rate = learning_rates[np.argmin(losses)]\n",
    "print('Best learning rate:', best_learning_rate)"
   ]
  },
  {
   "cell_type": "code",
   "execution_count": 11,
   "metadata": {},
   "outputs": [
    {
     "name": "stdout",
     "output_type": "stream",
     "text": [
      "Epoch 1/30\n",
      "1688/1688 [==============================] - 5s 3ms/step - loss: 0.2301 - accuracy: 0.9280 - val_loss: 0.1496 - val_accuracy: 0.9552\n",
      "Epoch 2/30\n",
      "1688/1688 [==============================] - 4s 3ms/step - loss: 0.0961 - accuracy: 0.9691 - val_loss: 0.1268 - val_accuracy: 0.9628\n",
      "Epoch 3/30\n",
      "1688/1688 [==============================] - 4s 3ms/step - loss: 0.0658 - accuracy: 0.9796 - val_loss: 0.0799 - val_accuracy: 0.9767\n",
      "Epoch 4/30\n",
      "1688/1688 [==============================] - 4s 3ms/step - loss: 0.0485 - accuracy: 0.9845 - val_loss: 0.0802 - val_accuracy: 0.9773\n",
      "Epoch 5/30\n",
      "1688/1688 [==============================] - 4s 3ms/step - loss: 0.0372 - accuracy: 0.9883 - val_loss: 0.0729 - val_accuracy: 0.9808\n",
      "Epoch 6/30\n",
      "1688/1688 [==============================] - 4s 3ms/step - loss: 0.0293 - accuracy: 0.9907 - val_loss: 0.0674 - val_accuracy: 0.9830\n",
      "Epoch 7/30\n",
      "1688/1688 [==============================] - 5s 3ms/step - loss: 0.0218 - accuracy: 0.9926 - val_loss: 0.0966 - val_accuracy: 0.9792\n",
      "Epoch 8/30\n",
      "1688/1688 [==============================] - 5s 3ms/step - loss: 0.0183 - accuracy: 0.9940 - val_loss: 0.0875 - val_accuracy: 0.9783\n",
      "Epoch 9/30\n",
      "1688/1688 [==============================] - 5s 3ms/step - loss: 0.0162 - accuracy: 0.9943 - val_loss: 0.0813 - val_accuracy: 0.9828\n",
      "Epoch 10/30\n",
      "1688/1688 [==============================] - 5s 3ms/step - loss: 0.0089 - accuracy: 0.9971 - val_loss: 0.1061 - val_accuracy: 0.9780\n",
      "Epoch 11/30\n",
      "1688/1688 [==============================] - 5s 3ms/step - loss: 0.0098 - accuracy: 0.9967 - val_loss: 0.0990 - val_accuracy: 0.9813\n",
      "Epoch 12/30\n",
      "1688/1688 [==============================] - 5s 3ms/step - loss: 0.0113 - accuracy: 0.9962 - val_loss: 0.0790 - val_accuracy: 0.9842\n",
      "Epoch 13/30\n",
      "1688/1688 [==============================] - 5s 3ms/step - loss: 0.0034 - accuracy: 0.9991 - val_loss: 0.1002 - val_accuracy: 0.9812\n",
      "Epoch 14/30\n",
      "1688/1688 [==============================] - 5s 3ms/step - loss: 0.0026 - accuracy: 0.9994 - val_loss: 0.0887 - val_accuracy: 0.9848\n",
      "Epoch 15/30\n",
      "1688/1688 [==============================] - 5s 3ms/step - loss: 6.5642e-04 - accuracy: 0.9999 - val_loss: 0.0870 - val_accuracy: 0.9852\n",
      "Epoch 16/30\n",
      "1688/1688 [==============================] - 5s 3ms/step - loss: 2.8224e-04 - accuracy: 1.0000 - val_loss: 0.0882 - val_accuracy: 0.9848\n",
      "Epoch 17/30\n",
      "1688/1688 [==============================] - 5s 3ms/step - loss: 1.3668e-04 - accuracy: 1.0000 - val_loss: 0.0894 - val_accuracy: 0.9848\n",
      "Epoch 18/30\n",
      "1688/1688 [==============================] - 5s 3ms/step - loss: 1.0623e-04 - accuracy: 1.0000 - val_loss: 0.0908 - val_accuracy: 0.9850\n",
      "Epoch 19/30\n",
      "1688/1688 [==============================] - 5s 3ms/step - loss: 9.0261e-05 - accuracy: 1.0000 - val_loss: 0.0920 - val_accuracy: 0.9848\n",
      "Epoch 20/30\n",
      "1688/1688 [==============================] - 5s 3ms/step - loss: 8.0282e-05 - accuracy: 1.0000 - val_loss: 0.0927 - val_accuracy: 0.9852\n",
      "Epoch 21/30\n",
      "1688/1688 [==============================] - 5s 3ms/step - loss: 7.2212e-05 - accuracy: 1.0000 - val_loss: 0.0937 - val_accuracy: 0.9852\n",
      "Epoch 22/30\n",
      "1688/1688 [==============================] - 5s 3ms/step - loss: 6.5660e-05 - accuracy: 1.0000 - val_loss: 0.0943 - val_accuracy: 0.9852\n",
      "Epoch 23/30\n",
      "1688/1688 [==============================] - 5s 3ms/step - loss: 6.0594e-05 - accuracy: 1.0000 - val_loss: 0.0952 - val_accuracy: 0.9850\n",
      "Epoch 24/30\n",
      "1688/1688 [==============================] - 5s 3ms/step - loss: 5.6253e-05 - accuracy: 1.0000 - val_loss: 0.0962 - val_accuracy: 0.9850\n",
      "Epoch 25/30\n",
      "1688/1688 [==============================] - 5s 3ms/step - loss: 5.2618e-05 - accuracy: 1.0000 - val_loss: 0.0965 - val_accuracy: 0.9850\n",
      "Epoch 26/30\n",
      "1688/1688 [==============================] - 5s 3ms/step - loss: 4.9327e-05 - accuracy: 1.0000 - val_loss: 0.0973 - val_accuracy: 0.9850\n",
      "Epoch 27/30\n",
      "1688/1688 [==============================] - 5s 3ms/step - loss: 4.6575e-05 - accuracy: 1.0000 - val_loss: 0.0978 - val_accuracy: 0.9852\n",
      "Epoch 28/30\n",
      "1688/1688 [==============================] - 5s 3ms/step - loss: 4.4044e-05 - accuracy: 1.0000 - val_loss: 0.0981 - val_accuracy: 0.9853\n",
      "Epoch 29/30\n",
      "1688/1688 [==============================] - 5s 3ms/step - loss: 4.1973e-05 - accuracy: 1.0000 - val_loss: 0.0988 - val_accuracy: 0.9852\n",
      "Epoch 30/30\n",
      "1688/1688 [==============================] - 5s 3ms/step - loss: 3.9927e-05 - accuracy: 1.0000 - val_loss: 0.0993 - val_accuracy: 0.9853\n"
     ]
    },
    {
     "data": {
      "text/plain": [
       "<keras.callbacks.History at 0x256b4d35870>"
      ]
     },
     "execution_count": 11,
     "metadata": {},
     "output_type": "execute_result"
    }
   ],
   "source": [
    "# Retrain the model with the best learning rate\n",
    "model = Sequential()\n",
    "model.add(Dense(256, activation='relu', input_shape=(784,)))\n",
    "model.add(Dense(128, activation='relu'))\n",
    "model.add(Dense(10, activation='softmax'))\n",
    "\n",
    "model.compile(loss='sparse_categorical_crossentropy', optimizer=SGD(learning_rate=best_learning_rate), metrics=['accuracy'])\n",
    "model.fit(X_train.reshape(-1, 784), y_train, epochs=30, validation_split=0.1)\n"
   ]
  },
  {
   "cell_type": "code",
   "execution_count": 12,
   "metadata": {},
   "outputs": [
    {
     "name": "stdout",
     "output_type": "stream",
     "text": [
      "313/313 [==============================] - 1s 2ms/step - loss: 0.0913 - accuracy: 0.9844\n",
      "Test accuracy: 0.9843999743461609\n"
     ]
    }
   ],
   "source": [
    "# Evaluate the model on the test set\n",
    "_, test_accuracy = model.evaluate(X_test.reshape(-1, 784), y_test)\n",
    "print('Test accuracy:', test_accuracy)"
   ]
  }
 ],
 "metadata": {
  "kernelspec": {
   "display_name": "base",
   "language": "python",
   "name": "python3"
  },
  "language_info": {
   "codemirror_mode": {
    "name": "ipython",
    "version": 3
   },
   "file_extension": ".py",
   "mimetype": "text/x-python",
   "name": "python",
   "nbconvert_exporter": "python",
   "pygments_lexer": "ipython3",
   "version": "3.10.9"
  },
  "orig_nbformat": 4
 },
 "nbformat": 4,
 "nbformat_minor": 2
}
